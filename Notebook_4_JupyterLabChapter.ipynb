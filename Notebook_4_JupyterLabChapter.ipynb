{
 "cells": [
  {
   "cell_type": "code",
   "execution_count": null,
   "id": "63c7e2ba",
   "metadata": {},
   "outputs": [],
   "source": [
    "import pandas as pd\n",
    "import numpy as np\n",
    "import matplotlib as plt\n",
    "%matplotlib inline"
   ]
  },
  {
   "cell_type": "code",
   "execution_count": null,
   "id": "848c4cd0",
   "metadata": {},
   "outputs": [],
   "source": [
    "df = pd.read_csv('pima-data.csv')"
   ]
  },
  {
   "cell_type": "code",
   "execution_count": null,
   "id": "53ccdb1b",
   "metadata": {},
   "outputs": [],
   "source": [
    "df.head()"
   ]
  },
  {
   "cell_type": "code",
   "execution_count": null,
   "id": "ad76c328",
   "metadata": {},
   "outputs": [],
   "source": [
    "df.head(10)"
   ]
  },
  {
   "cell_type": "code",
   "execution_count": null,
   "id": "e50a4f69",
   "metadata": {},
   "outputs": [],
   "source": [
    "df.tail(10)"
   ]
  },
  {
   "cell_type": "code",
   "execution_count": null,
   "id": "074f7c80",
   "metadata": {},
   "outputs": [],
   "source": [
    "list(df)"
   ]
  },
  {
   "cell_type": "code",
   "execution_count": null,
   "id": "22dc7179",
   "metadata": {},
   "outputs": [],
   "source": [
    "df.describe()"
   ]
  },
  {
   "cell_type": "code",
   "execution_count": null,
   "id": "542dcd98",
   "metadata": {},
   "outputs": [],
   "source": [
    "df.isnull().sum()"
   ]
  },
  {
   "cell_type": "code",
   "execution_count": null,
   "id": "607218a8",
   "metadata": {},
   "outputs": [],
   "source": [
    "df.shape"
   ]
  },
  {
   "cell_type": "code",
   "execution_count": null,
   "id": "83a9ac35",
   "metadata": {},
   "outputs": [],
   "source": [
    "df.dtypes"
   ]
  },
  {
   "cell_type": "code",
   "execution_count": null,
   "id": "39f53088",
   "metadata": {},
   "outputs": [],
   "source": [
    "from sklearn.linear_model import LinearRegression\n",
    "robot = LinearRegression()"
   ]
  },
  {
   "cell_type": "code",
   "execution_count": null,
   "id": "a1718e5d",
   "metadata": {},
   "outputs": [],
   "source": [
    "# pegando nossa var X\n",
    "# temos que separar em 2 sets, training vs testing set\n",
    "# temos que randomizar a parada\n",
    "X = df.drop('diabetes', axis = 1)"
   ]
  },
  {
   "cell_type": "code",
   "execution_count": null,
   "id": "6334495b",
   "metadata": {},
   "outputs": [],
   "source": [
    "X"
   ]
  },
  {
   "cell_type": "code",
   "execution_count": null,
   "id": "88e04367",
   "metadata": {},
   "outputs": [],
   "source": [
    "from sklearn.model_selection import train_test_split\n",
    "\n",
    "train, test = train_test_split(df, test_size=0.2)"
   ]
  },
  {
   "cell_type": "code",
   "execution_count": null,
   "id": "101d5178",
   "metadata": {},
   "outputs": [],
   "source": [
    "train.head()"
   ]
  },
  {
   "cell_type": "code",
   "execution_count": null,
   "id": "665df76d",
   "metadata": {},
   "outputs": [],
   "source": [
    "X = train.drop('diabetes', axis=1)"
   ]
  },
  {
   "cell_type": "code",
   "execution_count": null,
   "id": "01b69621",
   "metadata": {},
   "outputs": [],
   "source": [
    "train_X = train.drop('diabetes', axis=1)\n",
    "train_Y = train.diabetes\n",
    "print(train_X.shape, train_Y.shape, test_X.shape, test_Y.shape)"
   ]
  },
  {
   "cell_type": "code",
   "execution_count": null,
   "id": "9fb6cc60",
   "metadata": {},
   "outputs": [],
   "source": [
    "test_X = test.drop('diabetes', axis=1)\n",
    "test_Y = test.diabetes"
   ]
  },
  {
   "cell_type": "code",
   "execution_count": null,
   "id": "7ed87a75",
   "metadata": {},
   "outputs": [],
   "source": [
    "robot.fit(train_X,train_Y)"
   ]
  },
  {
   "cell_type": "code",
   "execution_count": null,
   "id": "1a5e280f",
   "metadata": {},
   "outputs": [],
   "source": [
    "robot.intercept_"
   ]
  },
  {
   "cell_type": "code",
   "execution_count": null,
   "id": "c4f5836e",
   "metadata": {},
   "outputs": [],
   "source": [
    "robot2 = robot.predict(train_X)"
   ]
  },
  {
   "cell_type": "code",
   "execution_count": null,
   "id": "32c7c097",
   "metadata": {},
   "outputs": [],
   "source": [
    "robot2"
   ]
  },
  {
   "cell_type": "code",
   "execution_count": null,
   "id": "2c34c505",
   "metadata": {},
   "outputs": [],
   "source": [
    "train.diabetes"
   ]
  },
  {
   "cell_type": "markdown",
   "id": "78e26627",
   "metadata": {},
   "source": [
    "# Indo pelo método do curso"
   ]
  },
  {
   "cell_type": "code",
   "execution_count": null,
   "id": "e10ca273",
   "metadata": {},
   "outputs": [],
   "source": [
    "df.isnull().values.any()"
   ]
  },
  {
   "cell_type": "code",
   "execution_count": null,
   "id": "fe45cdad",
   "metadata": {},
   "outputs": [],
   "source": []
  }
 ],
 "metadata": {
  "kernelspec": {
   "display_name": "Python 3 (ipykernel)",
   "language": "python",
   "name": "python3"
  },
  "language_info": {
   "codemirror_mode": {
    "name": "ipython",
    "version": 3
   },
   "file_extension": ".py",
   "mimetype": "text/x-python",
   "name": "python",
   "nbconvert_exporter": "python",
   "pygments_lexer": "ipython3",
   "version": "3.9.12"
  }
 },
 "nbformat": 4,
 "nbformat_minor": 5
}

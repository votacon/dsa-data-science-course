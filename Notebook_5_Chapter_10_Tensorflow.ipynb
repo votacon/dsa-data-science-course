{
 "cells": [
  {
   "cell_type": "code",
   "execution_count": null,
   "id": "0548f348",
   "metadata": {},
   "outputs": [],
   "source": [
    "import tensorflow as tf\n",
    "from tensorflow import keras\n",
    "from tensorflow.keras import layers\n",
    "print(tf.__version__)"
   ]
  },
  {
   "cell_type": "code",
   "execution_count": null,
   "id": "3ab3ac03",
   "metadata": {},
   "outputs": [],
   "source": [
    "import pandas as pd\n",
    "import numpy as np\n",
    "import matplotlib.pyplot as plt\n",
    "import seaborn as sns"
   ]
  },
  {
   "cell_type": "code",
   "execution_count": null,
   "id": "de0f3fdd",
   "metadata": {},
   "outputs": [],
   "source": [
    "from sklearn.datasets import fetch_california_housing\n",
    "housing = fetch_california_housing()"
   ]
  },
  {
   "cell_type": "code",
   "execution_count": null,
   "id": "05d0f4ab",
   "metadata": {},
   "outputs": [],
   "source": [
    "type(housing)"
   ]
  },
  {
   "cell_type": "code",
   "execution_count": null,
   "id": "12854cfc",
   "metadata": {},
   "outputs": [],
   "source": [
    "df = pd.DataFrame(data=housing.data, columns=housing.feature_names)\n",
    "df.head()"
   ]
  },
  {
   "cell_type": "code",
   "execution_count": null,
   "id": "3bcf4d37",
   "metadata": {},
   "outputs": [],
   "source": [
    "df.tail()"
   ]
  },
  {
   "cell_type": "code",
   "execution_count": null,
   "id": "7ba8f894",
   "metadata": {},
   "outputs": [],
   "source": [
    "df.describe()"
   ]
  },
  {
   "cell_type": "code",
   "execution_count": null,
   "id": "baf5729e",
   "metadata": {},
   "outputs": [],
   "source": [
    "list(df)"
   ]
  },
  {
   "cell_type": "code",
   "execution_count": null,
   "id": "ba9b0732",
   "metadata": {},
   "outputs": [],
   "source": [
    "df.isnull().sum()"
   ]
  },
  {
   "cell_type": "code",
   "execution_count": null,
   "id": "480cf26a",
   "metadata": {},
   "outputs": [],
   "source": [
    "df.shape"
   ]
  },
  {
   "cell_type": "code",
   "execution_count": null,
   "id": "626fe1b9",
   "metadata": {},
   "outputs": [],
   "source": [
    "dados_treino = df\n",
    "fig, ax = plt.subplots()\n",
    "x = dados_treino['AveRooms']\n",
    "y = dados_treino['MedInc']\n",
    "ax.scatter(x,y, edgecolors = (0,0,0))\n",
    "ax.set_xlabel('AveRooms')\n",
    "ax.set_ylabel('MedInc')"
   ]
  },
  {
   "cell_type": "code",
   "execution_count": null,
   "id": "de2ecd57",
   "metadata": {},
   "outputs": [],
   "source": [
    "df[['AveRooms', 'MedInc']].sort_values(by = 'MedInc', ascending=0)"
   ]
  },
  {
   "cell_type": "code",
   "execution_count": null,
   "id": "768830e7",
   "metadata": {},
   "outputs": [],
   "source": [
    "def modelo_linear():\n",
    "    \n",
    "    model = keras.Sequential([layers.Dense(1, use_bias=True, input_shape = (1,), name='layer')])\n",
    "    \n",
    "    optimizer = tf.keras.optimizers.Adam(learning_rate = 0.01,\n",
    "                                        beta_1 = 0.9,\n",
    "                                        beta_2 = 0.99,\n",
    "                                        epsilon = 1e-05,\n",
    "                                        amsgrad = False,\n",
    "                                        name = 'Adam')\n",
    "    model.compile(loss='mse',\n",
    "                 optmizer = optimizer,\n",
    "                 metrica = ['mse','mse'])\n",
    "    \n",
    "    return model"
   ]
  },
  {
   "cell_type": "code",
   "execution_count": null,
   "id": "da6f4b73",
   "metadata": {},
   "outputs": [],
   "source": [
    "modelo = modelo_linear()"
   ]
  },
  {
   "cell_type": "code",
   "execution_count": null,
   "id": "ea5d0b3b",
   "metadata": {},
   "outputs": [],
   "source": [
    "import enum\n",
    "# Using enum class create enumerations\n",
    "class Days(enum.Enum):\n",
    "   Sun = 1\n",
    "   Mon = 2\n",
    "   Tue = 3\n",
    "# print the enum member as a string\n",
    "print (\"The enum member as a string is : \",end=\"\")\n",
    "print (Days.Mon)\n",
    "\n",
    "# print the enum member as a repr\n",
    "print (\"he enum member as a repr is : \",end=\"\")\n",
    "print (repr(Days.Sun))\n",
    "\n",
    "# Check type of enum member\n",
    "print (\"The type of enum member is : \",end =\"\")\n",
    "print (type(Days.Mon))\n",
    "\n",
    "# print name of enum member\n",
    "print (\"The name of enum member is : \",end =\"\")\n",
    "print (Days.Tue.name)"
   ]
  },
  {
   "cell_type": "code",
   "execution_count": null,
   "id": "bb79eb12",
   "metadata": {},
   "outputs": [],
   "source": []
  }
 ],
 "metadata": {
  "kernelspec": {
   "display_name": "Python 3 (ipykernel)",
   "language": "python",
   "name": "python3"
  },
  "language_info": {
   "codemirror_mode": {
    "name": "ipython",
    "version": 3
   },
   "file_extension": ".py",
   "mimetype": "text/x-python",
   "name": "python",
   "nbconvert_exporter": "python",
   "pygments_lexer": "ipython3",
   "version": "3.9.12"
  }
 },
 "nbformat": 4,
 "nbformat_minor": 5
}
